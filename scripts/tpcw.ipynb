{
 "cells": [
  {
   "cell_type": "code",
   "execution_count": 3,
   "metadata": {},
   "outputs": [],
   "source": [
    "import json\n",
    "\n",
    "def get_db_type(s):\n",
    "    if 'Numeric' in s:\n",
    "        return 'INTEGER'\n",
    "    elif 'Variable text' in s or 'variable text' in s:\n",
    "        return 'VARCHAR'\n",
    "    elif 'Fixed text' in s:\n",
    "        return 'CHAR'\n",
    "    elif 'Date and time' in s:\n",
    "        return 'TIMESTAMP'\n",
    "    elif 'Date' in s:\n",
    "        return 'DATE'\n",
    "    elif 'Image' in s:\n",
    "        return 'VARCHAR'\n",
    "    elif 'Sign numeric' in s:\n",
    "        return 'INTEGER'\n",
    "    else:\n",
    "        print(\"Unknown type: \" + s)"
   ]
  },
  {
   "cell_type": "code",
   "execution_count": 5,
   "metadata": {},
   "outputs": [],
   "source": [
    "schemas = []\n",
    "current_table = \"\"\n",
    "current_columns = []\n",
    "\n",
    "with open(\"tpcw.txt\") as f:\n",
    "    lines = (line.rstrip() for line in f)\n",
    "    lines = (line for line in lines if line)\n",
    "    for line in lines:\n",
    "        split = line.split('\\t')\n",
    "        if split[1] == 'Table':\n",
    "            if current_table != \"\":\n",
    "                schemas.append({'name': current_table, 'columns': current_columns})\n",
    "            current_table = split[0]\n",
    "            current_columns = []\n",
    "        else:\n",
    "            current_columns.append({'name': split[0], 'type': get_db_type(split[1])})\n",
    "\n",
    "with open(\"tpcw.json\", \"w\") as out:\n",
    "    json.dump(schemas, out, indent=4)"
   ]
  },
  {
   "cell_type": "code",
   "execution_count": null,
   "metadata": {},
   "outputs": [],
   "source": []
  }
 ],
 "metadata": {
  "interpreter": {
   "hash": "aee8b7b246df8f9039afb4144a1f6fd8d2ca17a180786b69acc140d282b71a49"
  },
  "kernelspec": {
   "display_name": "Python 3.9.9 64-bit",
   "language": "python",
   "name": "python3"
  },
  "language_info": {
   "codemirror_mode": {
    "name": "ipython",
    "version": 3
   },
   "file_extension": ".py",
   "mimetype": "text/x-python",
   "name": "python",
   "nbconvert_exporter": "python",
   "pygments_lexer": "ipython3",
   "version": "3.9.9"
  },
  "orig_nbformat": 4
 },
 "nbformat": 4,
 "nbformat_minor": 2
}
